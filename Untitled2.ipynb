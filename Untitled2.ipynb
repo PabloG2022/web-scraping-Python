{
  "nbformat": 4,
  "nbformat_minor": 0,
  "metadata": {
    "colab": {
      "provenance": [],
      "authorship_tag": "ABX9TyMvPhNKTsf26KL0tJSp8Gd5",
      "include_colab_link": true
    },
    "kernelspec": {
      "name": "python3",
      "display_name": "Python 3"
    },
    "language_info": {
      "name": "python"
    }
  },
  "cells": [
    {
      "cell_type": "markdown",
      "metadata": {
        "id": "view-in-github",
        "colab_type": "text"
      },
      "source": [
        "<a href=\"https://colab.research.google.com/github/PabloG2022/web-scraping-Python/blob/main/Untitled2.ipynb\" target=\"_parent\"><img src=\"https://colab.research.google.com/assets/colab-badge.svg\" alt=\"Open In Colab\"/></a>"
      ]
    },
    {
      "cell_type": "code",
      "execution_count": 5,
      "metadata": {
        "id": "oEBopmz9elQL"
      },
      "outputs": [],
      "source": [
        "import requests\n",
        "from bs4 import BeautifulSoup\n",
        "import pandas as pd"
      ]
    },
    {
      "cell_type": "markdown",
      "source": [
        "#Request + Selector"
      ],
      "metadata": {
        "id": "_BkV5j_Pe-uI"
      }
    },
    {
      "cell_type": "code",
      "source": [
        "from requests.api import request\n",
        "def scrap_state_info(state: str) ->dict:\n",
        "    '''retorna informações do estado brasileiro\n",
        "  \n",
        "    :param state: nome do estado\n",
        "    :returns state_dict: dicionario com indicadores do estado \n",
        "    '''\n",
        "    print(f'piking {state} info...')\n",
        "    state_url = f'https://www.ibge.gov.br/cidades-e-estados/{state}.html'\n",
        "    page = requests.get(state_url)\n",
        "\n",
        "    soup = BeautifulSoup(page.content, 'html.parser')\n",
        "    indicadores = soup.select('.indicador')\n",
        "\n",
        "    state_dict = {\n",
        "        ind.select('.ind-label')[0].text: ind.select('.ind-value')[0].text\n",
        "        for ind in indicadores\n",
        "    }\n",
        "    state_dict['estado'] = state\n",
        "      \n",
        "    return state_dict\n",
        "\n",
        "    #return [(ind.select('.ind-label')[0].text, ind.select('.ind-value')[0].text) for ind in indicadores]\n",
        "\n",
        "\n",
        "\n",
        "scrap_state_info('sp') \n",
        "\n",
        "\n",
        "\n"
      ],
      "metadata": {
        "colab": {
          "base_uri": "https://localhost:8080/"
        },
        "id": "eO08tyeJfF5p",
        "outputId": "5a85cda6-3f73-4873-f9e5-897dad8ee5c9"
      },
      "execution_count": 19,
      "outputs": [
        {
          "output_type": "stream",
          "name": "stdout",
          "text": [
            "piking sp info...\n"
          ]
        },
        {
          "output_type": "execute_result",
          "data": {
            "text/plain": [
              "{'Governador': 'RODRIGO GARCIA\\xa0\\xa0\\xa0[2019]',\n",
              " 'Capital': 'São Paulo\\xa0\\xa0\\xa0[2010]',\n",
              " 'Gentílico': 'paulista',\n",
              " 'Área Territorial': '248.219,485 km²\\xa0\\xa0\\xa0[2021]',\n",
              " 'População estimada': '46.649.132 pessoas\\xa0\\xa0\\xa0[2021]',\n",
              " 'Densidade demográfica': '166,25 hab/km²\\xa0\\xa0\\xa0[2010]',\n",
              " 'Matrículas no ensino fundamental': '5.396.803 matrículas\\xa0\\xa0\\xa0[2021]',\n",
              " 'IDH Índice de desenvolvimento humano': '0,783\\xa0\\xa0\\xa0[2010]',\n",
              " 'Receitas realizadas': '232.822.496,57 R$ (×1000)\\xa0\\xa0\\xa0[2017]',\n",
              " 'Despesas empenhadas': '231.982.243,69 R$ (×1000)\\xa0\\xa0\\xa0[2017]',\n",
              " 'Rendimento mensal domiciliar per capita': '1.836 R$\\xa0\\xa0\\xa0[2021]',\n",
              " 'Total de veículos': '31.455.473 veículos\\xa0\\xa0\\xa0[2021]',\n",
              " 'estado': 'sp'}"
            ]
          },
          "metadata": {},
          "execution_count": 19
        }
      ]
    },
    {
      "cell_type": "code",
      "source": [
        "states = ['AC','AL','AP','AM','BA','CE','DF','ES','GO','MA','MT','MS','MG','PA','PB','PR','PE','PI','RJ','RN','RS','RO','SC','SP','SE','TO']\n",
        "states_data = [scrap_state_info(state) for state in states]"
      ],
      "metadata": {
        "colab": {
          "base_uri": "https://localhost:8080/"
        },
        "id": "ELpbPQb8mU7t",
        "outputId": "63d25f4c-4ef3-410c-fce6-1ed00df7e780"
      },
      "execution_count": 12,
      "outputs": [
        {
          "output_type": "stream",
          "name": "stdout",
          "text": [
            "piking AC info...\n",
            "piking AL info...\n",
            "piking AP info...\n",
            "piking AM info...\n",
            "piking BA info...\n",
            "piking CE info...\n",
            "piking DF info...\n",
            "piking ES info...\n",
            "piking GO info...\n",
            "piking MA info...\n",
            "piking MT info...\n",
            "piking MS info...\n",
            "piking MG info...\n",
            "piking PA info...\n",
            "piking PB info...\n",
            "piking PR info...\n",
            "piking PE info...\n",
            "piking PI info...\n",
            "piking RJ info...\n",
            "piking RN info...\n",
            "piking RS info...\n",
            "piking RO info...\n",
            "piking SC info...\n",
            "piking SP info...\n",
            "piking SE info...\n",
            "piking TO info...\n"
          ]
        }
      ]
    },
    {
      "cell_type": "code",
      "source": [
        "df = pd.DataFrame(states_data)\n",
        "df.head()\n",
        "# df.info()"
      ],
      "metadata": {
        "colab": {
          "base_uri": "https://localhost:8080/",
          "height": 531
        },
        "id": "ylKp5WwawqrM",
        "outputId": "1165875a-4527-46ee-8355-b2057ea90033"
      },
      "execution_count": 21,
      "outputs": [
        {
          "output_type": "execute_result",
          "data": {
            "text/plain": [
              "                                        Governador              Capital  \\\n",
              "0                  GLADSON DE LIMA CAMELI   [2019]  Rio Branco   [2010]   \n",
              "1  JOSE RENAN VASCONCELOS CALHEIROS FILHO   [2019]      Maceió   [2010]   \n",
              "2            ANTONIO WALDEZ GÓES DA SILVA   [2019]      Macapá   [2010]   \n",
              "3                     WILSON MIRANDA LIMA   [2019]      Manaus   [2010]   \n",
              "4                    RUI COSTA DOS SANTOS   [2019]    Salvador   [2010]   \n",
              "\n",
              "    Gentílico            Área Territorial           População estimada  \\\n",
              "0     acriano    164.173,431 km²   [2021]     906.876 pessoas   [2021]   \n",
              "1    alagoano     27.830,661 km²   [2021]   3.365.351 pessoas   [2021]   \n",
              "2   amapaense    142.470,762 km²   [2021]     877.613 pessoas   [2021]   \n",
              "3  amazonense  1.559.167,878 km²   [2021]   4.269.995 pessoas   [2021]   \n",
              "4      baiano    564.760,429 km²   [2021]  14.985.284 pessoas   [2021]   \n",
              "\n",
              "     Densidade demográfica Matrículas no ensino fundamental  \\\n",
              "0    4,47 hab/km²   [2010]       153.015 matrículas   [2021]   \n",
              "1  112,33 hab/km²   [2010]       458.782 matrículas   [2021]   \n",
              "2    4,69 hab/km²   [2010]       133.839 matrículas   [2021]   \n",
              "3    2,23 hab/km²   [2010]       702.763 matrículas   [2021]   \n",
              "4   24,82 hab/km²   [2010]     1.946.957 matrículas   [2021]   \n",
              "\n",
              "  IDH Índice de desenvolvimento humano                Receitas realizadas  \\\n",
              "0                        0,663   [2010]   6.632.883,11 R$ (×1000)   [2017]   \n",
              "1                        0,631   [2010]  11.950.438,46 R$ (×1000)   [2017]   \n",
              "2                        0,708   [2010]   5.396.417,14 R$ (×1000)   [2017]   \n",
              "3                        0,674   [2010]  17.328.459,43 R$ (×1000)   [2017]   \n",
              "4                        0,660   [2010]  50.191.003,24 R$ (×1000)   [2017]   \n",
              "\n",
              "                 Despesas empenhadas Rendimento mensal domiciliar per capita  \\\n",
              "0   6.084.416,81 R$ (×1000)   [2017]                         888 R$   [2021]   \n",
              "1  10.460.634,92 R$ (×1000)   [2017]                         777 R$   [2021]   \n",
              "2   4.224.464,09 R$ (×1000)   [2017]                         855 R$   [2021]   \n",
              "3  15.324.896,56 R$ (×1000)   [2017]                         800 R$   [2021]   \n",
              "4  45.570.160,00 R$ (×1000)   [2017]                         843 R$   [2021]   \n",
              "\n",
              "             Total de veículos estado  \n",
              "0    320.173 veículos   [2021]     AC  \n",
              "1    981.823 veículos   [2021]     AL  \n",
              "2    224.208 veículos   [2021]     AP  \n",
              "3  1.014.026 veículos   [2021]     AM  \n",
              "4  4.695.972 veículos   [2021]     BA  "
            ],
            "text/html": [
              "\n",
              "  <div id=\"df-f630b0c8-593d-48f1-86f7-182d7987fbe8\">\n",
              "    <div class=\"colab-df-container\">\n",
              "      <div>\n",
              "<style scoped>\n",
              "    .dataframe tbody tr th:only-of-type {\n",
              "        vertical-align: middle;\n",
              "    }\n",
              "\n",
              "    .dataframe tbody tr th {\n",
              "        vertical-align: top;\n",
              "    }\n",
              "\n",
              "    .dataframe thead th {\n",
              "        text-align: right;\n",
              "    }\n",
              "</style>\n",
              "<table border=\"1\" class=\"dataframe\">\n",
              "  <thead>\n",
              "    <tr style=\"text-align: right;\">\n",
              "      <th></th>\n",
              "      <th>Governador</th>\n",
              "      <th>Capital</th>\n",
              "      <th>Gentílico</th>\n",
              "      <th>Área Territorial</th>\n",
              "      <th>População estimada</th>\n",
              "      <th>Densidade demográfica</th>\n",
              "      <th>Matrículas no ensino fundamental</th>\n",
              "      <th>IDH Índice de desenvolvimento humano</th>\n",
              "      <th>Receitas realizadas</th>\n",
              "      <th>Despesas empenhadas</th>\n",
              "      <th>Rendimento mensal domiciliar per capita</th>\n",
              "      <th>Total de veículos</th>\n",
              "      <th>estado</th>\n",
              "    </tr>\n",
              "  </thead>\n",
              "  <tbody>\n",
              "    <tr>\n",
              "      <th>0</th>\n",
              "      <td>GLADSON DE LIMA CAMELI   [2019]</td>\n",
              "      <td>Rio Branco   [2010]</td>\n",
              "      <td>acriano</td>\n",
              "      <td>164.173,431 km²   [2021]</td>\n",
              "      <td>906.876 pessoas   [2021]</td>\n",
              "      <td>4,47 hab/km²   [2010]</td>\n",
              "      <td>153.015 matrículas   [2021]</td>\n",
              "      <td>0,663   [2010]</td>\n",
              "      <td>6.632.883,11 R$ (×1000)   [2017]</td>\n",
              "      <td>6.084.416,81 R$ (×1000)   [2017]</td>\n",
              "      <td>888 R$   [2021]</td>\n",
              "      <td>320.173 veículos   [2021]</td>\n",
              "      <td>AC</td>\n",
              "    </tr>\n",
              "    <tr>\n",
              "      <th>1</th>\n",
              "      <td>JOSE RENAN VASCONCELOS CALHEIROS FILHO   [2019]</td>\n",
              "      <td>Maceió   [2010]</td>\n",
              "      <td>alagoano</td>\n",
              "      <td>27.830,661 km²   [2021]</td>\n",
              "      <td>3.365.351 pessoas   [2021]</td>\n",
              "      <td>112,33 hab/km²   [2010]</td>\n",
              "      <td>458.782 matrículas   [2021]</td>\n",
              "      <td>0,631   [2010]</td>\n",
              "      <td>11.950.438,46 R$ (×1000)   [2017]</td>\n",
              "      <td>10.460.634,92 R$ (×1000)   [2017]</td>\n",
              "      <td>777 R$   [2021]</td>\n",
              "      <td>981.823 veículos   [2021]</td>\n",
              "      <td>AL</td>\n",
              "    </tr>\n",
              "    <tr>\n",
              "      <th>2</th>\n",
              "      <td>ANTONIO WALDEZ GÓES DA SILVA   [2019]</td>\n",
              "      <td>Macapá   [2010]</td>\n",
              "      <td>amapaense</td>\n",
              "      <td>142.470,762 km²   [2021]</td>\n",
              "      <td>877.613 pessoas   [2021]</td>\n",
              "      <td>4,69 hab/km²   [2010]</td>\n",
              "      <td>133.839 matrículas   [2021]</td>\n",
              "      <td>0,708   [2010]</td>\n",
              "      <td>5.396.417,14 R$ (×1000)   [2017]</td>\n",
              "      <td>4.224.464,09 R$ (×1000)   [2017]</td>\n",
              "      <td>855 R$   [2021]</td>\n",
              "      <td>224.208 veículos   [2021]</td>\n",
              "      <td>AP</td>\n",
              "    </tr>\n",
              "    <tr>\n",
              "      <th>3</th>\n",
              "      <td>WILSON MIRANDA LIMA   [2019]</td>\n",
              "      <td>Manaus   [2010]</td>\n",
              "      <td>amazonense</td>\n",
              "      <td>1.559.167,878 km²   [2021]</td>\n",
              "      <td>4.269.995 pessoas   [2021]</td>\n",
              "      <td>2,23 hab/km²   [2010]</td>\n",
              "      <td>702.763 matrículas   [2021]</td>\n",
              "      <td>0,674   [2010]</td>\n",
              "      <td>17.328.459,43 R$ (×1000)   [2017]</td>\n",
              "      <td>15.324.896,56 R$ (×1000)   [2017]</td>\n",
              "      <td>800 R$   [2021]</td>\n",
              "      <td>1.014.026 veículos   [2021]</td>\n",
              "      <td>AM</td>\n",
              "    </tr>\n",
              "    <tr>\n",
              "      <th>4</th>\n",
              "      <td>RUI COSTA DOS SANTOS   [2019]</td>\n",
              "      <td>Salvador   [2010]</td>\n",
              "      <td>baiano</td>\n",
              "      <td>564.760,429 km²   [2021]</td>\n",
              "      <td>14.985.284 pessoas   [2021]</td>\n",
              "      <td>24,82 hab/km²   [2010]</td>\n",
              "      <td>1.946.957 matrículas   [2021]</td>\n",
              "      <td>0,660   [2010]</td>\n",
              "      <td>50.191.003,24 R$ (×1000)   [2017]</td>\n",
              "      <td>45.570.160,00 R$ (×1000)   [2017]</td>\n",
              "      <td>843 R$   [2021]</td>\n",
              "      <td>4.695.972 veículos   [2021]</td>\n",
              "      <td>BA</td>\n",
              "    </tr>\n",
              "  </tbody>\n",
              "</table>\n",
              "</div>\n",
              "      <button class=\"colab-df-convert\" onclick=\"convertToInteractive('df-f630b0c8-593d-48f1-86f7-182d7987fbe8')\"\n",
              "              title=\"Convert this dataframe to an interactive table.\"\n",
              "              style=\"display:none;\">\n",
              "        \n",
              "  <svg xmlns=\"http://www.w3.org/2000/svg\" height=\"24px\"viewBox=\"0 0 24 24\"\n",
              "       width=\"24px\">\n",
              "    <path d=\"M0 0h24v24H0V0z\" fill=\"none\"/>\n",
              "    <path d=\"M18.56 5.44l.94 2.06.94-2.06 2.06-.94-2.06-.94-.94-2.06-.94 2.06-2.06.94zm-11 1L8.5 8.5l.94-2.06 2.06-.94-2.06-.94L8.5 2.5l-.94 2.06-2.06.94zm10 10l.94 2.06.94-2.06 2.06-.94-2.06-.94-.94-2.06-.94 2.06-2.06.94z\"/><path d=\"M17.41 7.96l-1.37-1.37c-.4-.4-.92-.59-1.43-.59-.52 0-1.04.2-1.43.59L10.3 9.45l-7.72 7.72c-.78.78-.78 2.05 0 2.83L4 21.41c.39.39.9.59 1.41.59.51 0 1.02-.2 1.41-.59l7.78-7.78 2.81-2.81c.8-.78.8-2.07 0-2.86zM5.41 20L4 18.59l7.72-7.72 1.47 1.35L5.41 20z\"/>\n",
              "  </svg>\n",
              "      </button>\n",
              "      \n",
              "  <style>\n",
              "    .colab-df-container {\n",
              "      display:flex;\n",
              "      flex-wrap:wrap;\n",
              "      gap: 12px;\n",
              "    }\n",
              "\n",
              "    .colab-df-convert {\n",
              "      background-color: #E8F0FE;\n",
              "      border: none;\n",
              "      border-radius: 50%;\n",
              "      cursor: pointer;\n",
              "      display: none;\n",
              "      fill: #1967D2;\n",
              "      height: 32px;\n",
              "      padding: 0 0 0 0;\n",
              "      width: 32px;\n",
              "    }\n",
              "\n",
              "    .colab-df-convert:hover {\n",
              "      background-color: #E2EBFA;\n",
              "      box-shadow: 0px 1px 2px rgba(60, 64, 67, 0.3), 0px 1px 3px 1px rgba(60, 64, 67, 0.15);\n",
              "      fill: #174EA6;\n",
              "    }\n",
              "\n",
              "    [theme=dark] .colab-df-convert {\n",
              "      background-color: #3B4455;\n",
              "      fill: #D2E3FC;\n",
              "    }\n",
              "\n",
              "    [theme=dark] .colab-df-convert:hover {\n",
              "      background-color: #434B5C;\n",
              "      box-shadow: 0px 1px 3px 1px rgba(0, 0, 0, 0.15);\n",
              "      filter: drop-shadow(0px 1px 2px rgba(0, 0, 0, 0.3));\n",
              "      fill: #FFFFFF;\n",
              "    }\n",
              "  </style>\n",
              "\n",
              "      <script>\n",
              "        const buttonEl =\n",
              "          document.querySelector('#df-f630b0c8-593d-48f1-86f7-182d7987fbe8 button.colab-df-convert');\n",
              "        buttonEl.style.display =\n",
              "          google.colab.kernel.accessAllowed ? 'block' : 'none';\n",
              "\n",
              "        async function convertToInteractive(key) {\n",
              "          const element = document.querySelector('#df-f630b0c8-593d-48f1-86f7-182d7987fbe8');\n",
              "          const dataTable =\n",
              "            await google.colab.kernel.invokeFunction('convertToInteractive',\n",
              "                                                     [key], {});\n",
              "          if (!dataTable) return;\n",
              "\n",
              "          const docLinkHtml = 'Like what you see? Visit the ' +\n",
              "            '<a target=\"_blank\" href=https://colab.research.google.com/notebooks/data_table.ipynb>data table notebook</a>'\n",
              "            + ' to learn more about interactive tables.';\n",
              "          element.innerHTML = '';\n",
              "          dataTable['output_type'] = 'display_data';\n",
              "          await google.colab.output.renderOutput(dataTable, element);\n",
              "          const docLink = document.createElement('div');\n",
              "          docLink.innerHTML = docLinkHtml;\n",
              "          element.appendChild(docLink);\n",
              "        }\n",
              "      </script>\n",
              "    </div>\n",
              "  </div>\n",
              "  "
            ]
          },
          "metadata": {},
          "execution_count": 21
        }
      ]
    },
    {
      "cell_type": "code",
      "source": [
        "df = pd.DataFrame(states_data)\n",
        "df.head()\n",
        "df.info()"
      ],
      "metadata": {
        "colab": {
          "base_uri": "https://localhost:8080/"
        },
        "id": "k5sMPfVkn4fR",
        "outputId": "3e1f6da5-8f61-409c-f73b-96472a660f3d"
      },
      "execution_count": 18,
      "outputs": [
        {
          "output_type": "stream",
          "name": "stdout",
          "text": [
            "<class 'pandas.core.frame.DataFrame'>\n",
            "RangeIndex: 26 entries, 0 to 25\n",
            "Data columns (total 13 columns):\n",
            " #   Column                                   Non-Null Count  Dtype \n",
            "---  ------                                   --------------  ----- \n",
            " 0   Governador                               26 non-null     object\n",
            " 1   Capital                                  26 non-null     object\n",
            " 2   Gentílico                                26 non-null     object\n",
            " 3   Área Territorial                         26 non-null     object\n",
            " 4   População estimada                       26 non-null     object\n",
            " 5   Densidade demográfica                    26 non-null     object\n",
            " 6   Matrículas no ensino fundamental        26 non-null     object\n",
            " 7   IDH Índice de desenvolvimento humano    26 non-null     object\n",
            " 8   Receitas realizadas                      26 non-null     object\n",
            " 9   Despesas empenhadas                      26 non-null     object\n",
            " 10  Rendimento mensal domiciliar per capita  26 non-null     object\n",
            " 11  Total de veículos                        26 non-null     object\n",
            " 12  estado                                   26 non-null     object\n",
            "dtypes: object(13)\n",
            "memory usage: 2.8+ KB\n"
          ]
        }
      ]
    },
    {
      "cell_type": "markdown",
      "source": [
        "#Clear"
      ],
      "metadata": {
        "id": "oFakyX7QodpB"
      }
    },
    {
      "cell_type": "code",
      "source": [
        "states_df = df.copy()\n",
        "states_df.columns = ['governor', 'capital', 'gentile', 'area', 'population', 'demographic_density', 'primary_school_enrollment', 'idh', 'realized_revenue', 'committed_expenses', 'income_per_capita', 'vehicle_total', 'code']\n",
        "states_df = states_df[['code', 'governor', 'population', 'area', 'idh', 'income_per_capita', 'vehicle_total', 'primary_school_enrollment', 'committed_expenses', 'realized_revenue']]\n",
        "\n",
        "states_df = states_df.replace({\n",
        "    '\\.' : '',\n",
        "    ',' :'.',\n",
        "    '\\[\\d+\\]': '',\n",
        "    'hab/km²' : '',\n",
        "    'km²' :'',\n",
        "    'pessoas' : '',\n",
        "    'matriculas' : '',\n",
        "    'R\\$.*'  :  '',\n",
        "    'veiculos'  :  ''\n",
        "    },regex = True)\n",
        "\n",
        "states_df.head()\n",
        "\n",
        "num_cols = ['population', 'area', 'idh', 'income_per_capita', 'vehicle_total', 'primary_school_enrollment', 'committed_expenses', 'realized_revenue']\n",
        "\n",
        "states_df[num_cols] = states_df[num_cols].apply(lambda x: x.str.strip())\n",
        "# states_df[num_cols] = states_df[num_cols].apply(pd.to_numeric)\n",
        "states_df.info()\n"
      ],
      "metadata": {
        "colab": {
          "base_uri": "https://localhost:8080/"
        },
        "id": "ZkhVv2JFogev",
        "outputId": "cceaea43-f26c-4864-cc29-ba7705f7da64"
      },
      "execution_count": 24,
      "outputs": [
        {
          "output_type": "stream",
          "name": "stdout",
          "text": [
            "<class 'pandas.core.frame.DataFrame'>\n",
            "RangeIndex: 26 entries, 0 to 25\n",
            "Data columns (total 10 columns):\n",
            " #   Column                     Non-Null Count  Dtype \n",
            "---  ------                     --------------  ----- \n",
            " 0   code                       26 non-null     object\n",
            " 1   governor                   26 non-null     object\n",
            " 2   population                 26 non-null     object\n",
            " 3   area                       26 non-null     object\n",
            " 4   idh                        26 non-null     object\n",
            " 5   income_per_capita          26 non-null     object\n",
            " 6   vehicle_total              26 non-null     object\n",
            " 7   primary_school_enrollment  26 non-null     object\n",
            " 8   committed_expenses         26 non-null     object\n",
            " 9   realized_revenue           26 non-null     object\n",
            "dtypes: object(10)\n",
            "memory usage: 2.2+ KB\n"
          ]
        }
      ]
    }
  ]
}